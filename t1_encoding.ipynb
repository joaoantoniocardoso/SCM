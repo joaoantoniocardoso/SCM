{
 "cells": [
  {
   "cell_type": "markdown",
   "metadata": {
    "ExecuteTime": {
     "end_time": "2020-02-27T11:38:04.507946Z",
     "start_time": "2020-02-27T11:38:04.499389Z"
    }
   },
   "source": [
    "# Implementação em Python de codificações digitais\n",
    "\n",
    "**Sumário:**\n",
    "\n",
    "  - Unipolar \n",
    "    - RZ\n",
    "    - NRZ\n",
    "  - Bipolar \n",
    "    - RZ\n",
    "    - NRZ\n",
    "  - Polar Quaternário NRZ\n",
    "  - NRZI\n",
    "      - NRZM\n",
    "      - NRZS\n",
    "  - Manchester\n",
    "  \n",
    "---"
   ]
  },
  {
   "cell_type": "markdown",
   "metadata": {},
   "source": [
    "## Informação não codificada\n",
    "Abaixo é instanciado uma informação não codificada `uncoded_data`, para ser utilizado como teste para todas as codificações a serem implementadas.\n",
    "Também é definida o período de bit `bit_period` e de amostragem `sampling_period`."
   ]
  },
  {
   "cell_type": "code",
   "execution_count": 1,
   "metadata": {
    "ExecuteTime": {
     "end_time": "2020-03-09T01:11:40.069970Z",
     "start_time": "2020-03-09T01:11:39.663573Z"
    },
    "code_folding": [
     5
    ]
   },
   "outputs": [
    {
     "name": "stdout",
     "output_type": "stream",
     "text": [
      "uncoded data: [178]\n",
      "bit period: 1 s\n",
      "sampling period: 0.1 s\n"
     ]
    }
   ],
   "source": [
    "import numpy as np\n",
    "import matplotlib.pyplot as plt\n",
    "\n",
    "if __name__ == '__main__' and callable(globals().get(\"get_ipython\", None)):\n",
    "    uncoded_data = np.array([0b10110010], dtype=np.uint8)\n",
    "    bit_period = 1  # 100e-6\n",
    "    sampling_period = 0.1  # 100e-9\n",
    "\n",
    "    print(f'uncoded data: {uncoded_data}')\n",
    "    print(f'bit period: {bit_period} s')\n",
    "    print(f'sampling period: {sampling_period} s')"
   ]
  },
  {
   "cell_type": "markdown",
   "metadata": {},
   "source": [
    "## Unipolar RZ (Return-to-Zero)"
   ]
  },
  {
   "cell_type": "code",
   "execution_count": 2,
   "metadata": {
    "ExecuteTime": {
     "end_time": "2020-03-09T01:11:40.342436Z",
     "start_time": "2020-03-09T01:11:40.072512Z"
    },
    "code_folding": []
   },
   "outputs": [
    {
     "name": "stdout",
     "output_type": "stream",
     "text": [
      "Encoding: Unipolar RZ\n",
      "encoded data: [1 1 1 1 0 0 0 0 0 0 0 0 0 0 0 0 1 1 1 1 0 0 0 0 1 1 1 1 0 0 0 0 0 0 0 0 0\n",
      " 0 0 0 0 0 0 0 0 0 0 0 1 1 1 1 0 0 0 0 0 0 0 0 0 0 0 0]\n"
     ]
    },
    {
     "data": {
      "image/png": "[encoded data removed]",
      "text/plain": [
       "<Figure size 1080x108 with 1 Axes>"
      ]
     },
     "metadata": {
      "needs_background": "light"
     },
     "output_type": "display_data"
    }
   ],
   "source": [
    "def encode_unipolar_rz(data: np.array,\n",
    "                       bit_period: float = 1,\n",
    "                       sampling_period: float = 0.1,\n",
    "                       high_level: float = 1\n",
    "                       ) -> np.array:\n",
    "\n",
    "    if type(data) != type(np.array([], dtype=np.uint8)):\n",
    "        raise SystemExit('Error: Expecting dtype=np.array for parameter data.')\n",
    "\n",
    "    length = int(bit_period // sampling_period)\n",
    "    bitarray = np.unpackbits(data)\n",
    "    symbols = []\n",
    "\n",
    "    for bit in bitarray:\n",
    "        if bit == 1:\n",
    "            symbol = [high_level] * (length // 2)\n",
    "        else:\n",
    "            symbol = [0] * (length // 2)\n",
    "        symbol += [0] * (length // 2)\n",
    "        symbols += symbol\n",
    "\n",
    "    return np.array(symbols)\n",
    "\n",
    "\n",
    "if __name__ == '__main__' and callable(globals().get(\"get_ipython\", None)):\n",
    "    print('Encoding: Unipolar RZ')\n",
    "    encoded_data = encode_unipolar_rz(\n",
    "        uncoded_data, bit_period, sampling_period)\n",
    "    print(f'encoded data: {encoded_data}')\n",
    "\n",
    "    plt.figure(figsize=(15, 1.5))\n",
    "    plt.title('Unipolar RZ')\n",
    "    plt.plot(encoded_data)\n",
    "    plt.grid()"
   ]
  },
  {
   "cell_type": "markdown",
   "metadata": {},
   "source": [
    "## Unipolar NRZ (Non-Return-to-Zero)"
   ]
  },
  {
   "cell_type": "code",
   "execution_count": 3,
   "metadata": {
    "ExecuteTime": {
     "end_time": "2020-03-09T01:11:40.543917Z",
     "start_time": "2020-03-09T01:11:40.345340Z"
    },
    "code_folding": []
   },
   "outputs": [
    {
     "name": "stdout",
     "output_type": "stream",
     "text": [
      "Encoding: Unipolar NRZ\n",
      "encoded data: [1 1 1 1 1 1 1 1 1 0 0 0 0 0 0 0 0 0 1 1 1 1 1 1 1 1 1 1 1 1 1 1 1 1 1 1 0\n",
      " 0 0 0 0 0 0 0 0 0 0 0 0 0 0 0 0 0 1 1 1 1 1 1 1 1 1 0 0 0 0 0 0 0 0 0]\n"
     ]
    },
    {
     "data": {
      "image/png": "[encoded data removed]",
      "text/plain": [
       "<Figure size 1080x108 with 1 Axes>"
      ]
     },
     "metadata": {
      "needs_background": "light"
     },
     "output_type": "display_data"
    }
   ],
   "source": [
    "def encode_unipolar_nrz(data: np.array,\n",
    "                        bit_period: float = 1,\n",
    "                        sampling_period: float = 0.1,\n",
    "                        high_level: float = 1\n",
    "                        ) -> np.array:\n",
    "\n",
    "    if type(data) != type(np.array([], dtype=np.uint8)):\n",
    "        raise SystemExit('Error: Expecting dtype=np.array for parameter data.')\n",
    "\n",
    "    length = int(bit_period // sampling_period)\n",
    "    bitarray = np.unpackbits(data)\n",
    "    symbols = []\n",
    "\n",
    "    for bit in bitarray:\n",
    "        if bit == 1:\n",
    "            symbol = [high_level] * length\n",
    "        else:\n",
    "            symbol = [0] * length\n",
    "        symbols += symbol\n",
    "\n",
    "    return np.array(symbols)\n",
    "\n",
    "\n",
    "if __name__ == '__main__' and callable(globals().get(\"get_ipython\", None)):\n",
    "    print('Encoding: Unipolar NRZ')\n",
    "    encoded_data = encode_unipolar_nrz(\n",
    "        uncoded_data, bit_period, sampling_period)\n",
    "    print(f'encoded data: {encoded_data}')\n",
    "\n",
    "    plt.figure(figsize=(15, 1.5))\n",
    "    plt.title('Unipolar NRZ')\n",
    "    plt.plot(encoded_data)\n",
    "    plt.grid()"
   ]
  },
  {
   "cell_type": "markdown",
   "metadata": {},
   "source": [
    "##  Bipolar RZ (Return-to-Zero)"
   ]
  },
  {
   "cell_type": "code",
   "execution_count": 4,
   "metadata": {
    "ExecuteTime": {
     "end_time": "2020-03-09T01:11:40.714528Z",
     "start_time": "2020-03-09T01:11:40.546412Z"
    },
    "code_folding": [],
    "scrolled": true
   },
   "outputs": [
    {
     "name": "stdout",
     "output_type": "stream",
     "text": [
      "Encoding: Bipolar RZ\n",
      "encoded data: [ 1  1  1  1  0  0  0  0 -1 -1 -1 -1  0  0  0  0  1  1  1  1  0  0  0  0\n",
      "  1  1  1  1  0  0  0  0 -1 -1 -1 -1  0  0  0  0 -1 -1 -1 -1  0  0  0  0\n",
      "  1  1  1  1  0  0  0  0 -1 -1 -1 -1  0  0  0  0]\n"
     ]
    },
    {
     "data": {
      "image/png": "[encoded data removed]",
      "text/plain": [
       "<Figure size 1080x108 with 1 Axes>"
      ]
     },
     "metadata": {
      "needs_background": "light"
     },
     "output_type": "display_data"
    }
   ],
   "source": [
    "def encode_bipolar_rz(data: np.array,\n",
    "                      bit_period: float = 1,\n",
    "                      sampling_period: float = 0.1,\n",
    "                      high_level: float = 1\n",
    "                      ) -> np.array:\n",
    "\n",
    "    if type(data) != type(np.array([], dtype=np.uint8)):\n",
    "        raise SystemExit('Error: Expecting dtype=np.array for parameter data.')\n",
    "\n",
    "    length = int(bit_period // sampling_period)\n",
    "    bitarray = np.unpackbits(data)\n",
    "    symbols = []\n",
    "\n",
    "    for bit in bitarray:\n",
    "        if bit == 1:\n",
    "            symbol = [high_level] * (length // 2)\n",
    "        else:\n",
    "            symbol = [-high_level] * (length // 2)\n",
    "        symbol += [0] * (length // 2)\n",
    "        symbols += symbol\n",
    "\n",
    "    return np.array(symbols)\n",
    "\n",
    "\n",
    "if __name__ == '__main__' and callable(globals().get(\"get_ipython\", None)):\n",
    "    print('Encoding: Bipolar RZ')\n",
    "    encoded_data = encode_bipolar_rz(\n",
    "        uncoded_data, bit_period, sampling_period)\n",
    "    print(f'encoded data: {encoded_data}')\n",
    "\n",
    "    plt.figure(figsize=(15, 1.5))\n",
    "    plt.title('Bipolar RZ')\n",
    "    plt.plot(encoded_data)\n",
    "    plt.grid()"
   ]
  },
  {
   "cell_type": "markdown",
   "metadata": {
    "ExecuteTime": {
     "end_time": "2020-03-08T23:40:10.509390Z",
     "start_time": "2020-03-08T23:40:10.506893Z"
    }
   },
   "source": [
    "## Polar Quaternário NRZ (Non-Return-to-Zero)"
   ]
  },
  {
   "cell_type": "code",
   "execution_count": 5,
   "metadata": {
    "ExecuteTime": {
     "end_time": "2020-03-09T01:11:40.893990Z",
     "start_time": "2020-03-09T01:11:40.716369Z"
    },
    "code_folding": []
   },
   "outputs": [
    {
     "name": "stdout",
     "output_type": "stream",
     "text": [
      "Encoding: Polar Quaternary NRZ\n",
      "encoded data: [0.33333333 0.33333333 0.33333333 0.33333333 0.33333333 0.33333333\n",
      " 0.33333333 0.33333333 0.33333333 1.         1.         1.\n",
      " 1.         1.         1.         1.         1.         1.\n",
      " 0.         0.         0.         0.         0.         0.\n",
      " 0.         0.         0.         0.33333333 0.33333333 0.33333333\n",
      " 0.33333333 0.33333333 0.33333333 0.33333333 0.33333333 0.33333333]\n"
     ]
    },
    {
     "data": {
      "image/png": "[encoded data removed]",
      "text/plain": [
       "<Figure size 1080x108 with 1 Axes>"
      ]
     },
     "metadata": {
      "needs_background": "light"
     },
     "output_type": "display_data"
    }
   ],
   "source": [
    "def encode_polar4_nrz(data: np.array,\n",
    "                      bit_period: float = 1,\n",
    "                      sampling_period: float = 0.1,\n",
    "                      high_level: float = 1\n",
    "                      ) -> np.array:\n",
    "\n",
    "    if type(data) != type(np.array([], dtype=np.uint8)):\n",
    "        raise SystemExit('Error: Expecting dtype=np.array for parameter data.')\n",
    "\n",
    "    length = int(bit_period // sampling_period)\n",
    "    bitarray = np.unpackbits(data)\n",
    "    symbols = []\n",
    "\n",
    "    for bits in bitarray.reshape(len(bitarray) // 2, 2):\n",
    "        num = int(str(bits[1]) + str(bits[0]), 2)\n",
    "        symbol = [high_level * num / 3.] * length\n",
    "\n",
    "        symbols += symbol\n",
    "\n",
    "    return np.array(symbols)\n",
    "\n",
    "\n",
    "if __name__ == '__main__' and callable(globals().get(\"get_ipython\", None)):\n",
    "    print('Encoding: Polar Quaternary NRZ')\n",
    "    encoded_data = encode_polar4_nrz(\n",
    "        uncoded_data, bit_period, sampling_period)\n",
    "    print(f'encoded data: {encoded_data}')\n",
    "\n",
    "    plt.figure(figsize=(15, 1.5))\n",
    "    plt.title('Polar Quaternary NRZ')\n",
    "    plt.plot(encoded_data)\n",
    "    plt.grid()"
   ]
  },
  {
   "cell_type": "markdown",
   "metadata": {},
   "source": [
    "##  Bipolar NRZ (Non-Return-to-Zero)"
   ]
  },
  {
   "cell_type": "code",
   "execution_count": 6,
   "metadata": {
    "ExecuteTime": {
     "end_time": "2020-03-09T01:11:41.069625Z",
     "start_time": "2020-03-09T01:11:40.897093Z"
    },
    "code_folding": []
   },
   "outputs": [
    {
     "name": "stdout",
     "output_type": "stream",
     "text": [
      "Encoding: Bipolar NRZ\n",
      "encoded data: [ 1  1  1  1  1  1  1  1  1 -1 -1 -1 -1 -1 -1 -1 -1 -1  1  1  1  1  1  1\n",
      "  1  1  1  1  1  1  1  1  1  1  1  1 -1 -1 -1 -1 -1 -1 -1 -1 -1 -1 -1 -1\n",
      " -1 -1 -1 -1 -1 -1  1  1  1  1  1  1  1  1  1 -1 -1 -1 -1 -1 -1 -1 -1 -1]\n"
     ]
    },
    {
     "data": {
      "image/png": "[encoded data removed]",
      "text/plain": [
       "<Figure size 1080x108 with 1 Axes>"
      ]
     },
     "metadata": {
      "needs_background": "light"
     },
     "output_type": "display_data"
    }
   ],
   "source": [
    "def encode_bipolar_nrz(data: np.array,\n",
    "                       bit_period: float = 1,\n",
    "                       sampling_period: float = 0.1,\n",
    "                       high_level: float = 1\n",
    "                       ) -> np.array:\n",
    "\n",
    "    if type(data) != type(np.array([], dtype=np.uint8)):\n",
    "        raise SystemExit('Error: Expecting dtype=np.array for parameter data.')\n",
    "\n",
    "    length = int(bit_period // sampling_period)\n",
    "    bitarray = np.unpackbits(data)\n",
    "    symbols = []\n",
    "\n",
    "    for bit in bitarray:\n",
    "        if int(bit) == 1:\n",
    "            symbol = [high_level] * length\n",
    "        else:\n",
    "            symbol = [-high_level] * length\n",
    "        symbols += symbol\n",
    "\n",
    "    return np.array(symbols)\n",
    "\n",
    "\n",
    "if __name__ == '__main__' and callable(globals().get(\"get_ipython\", None)):\n",
    "    print('Encoding: Bipolar NRZ')\n",
    "    encoded_data = encode_bipolar_nrz(\n",
    "        uncoded_data, bit_period, sampling_period)\n",
    "    print(f'encoded data: {encoded_data}')\n",
    "\n",
    "    plt.figure(figsize=(15, 1.5))\n",
    "    plt.title('Bipolar NRZ')\n",
    "    plt.plot(encoded_data)\n",
    "    plt.grid()"
   ]
  },
  {
   "cell_type": "markdown",
   "metadata": {},
   "source": [
    "## NRZM (Non-Return-to-Zero Mark)"
   ]
  },
  {
   "cell_type": "code",
   "execution_count": 7,
   "metadata": {
    "ExecuteTime": {
     "end_time": "2020-03-09T01:11:41.246112Z",
     "start_time": "2020-03-09T01:11:41.073025Z"
    },
    "code_folding": []
   },
   "outputs": [
    {
     "name": "stdout",
     "output_type": "stream",
     "text": [
      "Encoding: NRZM\n",
      "encoded data: [1 1 1 1 1 1 1 1 1 1 1 1 1 1 1 1 1 1 0 0 0 0 0 0 0 0 0 1 1 1 1 1 1 1 1 1 1\n",
      " 1 1 1 1 1 1 1 1 1 1 1 1 1 1 1 1 1 0 0 0 0 0 0 0 0 0 0 0 0 0 0 0 0 0 0]\n"
     ]
    },
    {
     "data": {
      "image/png": "[encoded data removed]",
      "text/plain": [
       "<Figure size 1080x108 with 1 Axes>"
      ]
     },
     "metadata": {
      "needs_background": "light"
     },
     "output_type": "display_data"
    }
   ],
   "source": [
    "def encode_nrzm(data: np.array,\n",
    "                bit_period: float = 1,\n",
    "                sampling_period: float = 0.1,\n",
    "                high_level: float = 1\n",
    "                ) -> np.array:\n",
    "\n",
    "    if type(data) != type(np.array([], dtype=np.uint8)):\n",
    "        raise SystemExit('Error: Expecting dtype=np.array for parameter data.')\n",
    "\n",
    "    length = int(bit_period // sampling_period)\n",
    "    bitarray = np.unpackbits(data)\n",
    "    symbols = []\n",
    "\n",
    "    def _encode_nrzm_(bit):\n",
    "        if not hasattr(_encode_nrzm_, \"level\"):\n",
    "            _encode_nrzm_.level = 0\n",
    "\n",
    "        if bit == 1:\n",
    "            _encode_nrzm_.level ^= 1\n",
    "\n",
    "        symbol = [_encode_nrzm_.level * high_level] * length\n",
    "        return symbol\n",
    "\n",
    "    for bit in bitarray:\n",
    "        symbols += _encode_nrzm_(bit)\n",
    "\n",
    "    return np.array(symbols)\n",
    "\n",
    "\n",
    "if __name__ == '__main__' and callable(globals().get(\"get_ipython\", None)):\n",
    "    print('Encoding: NRZM')\n",
    "    encoded_data = encode_nrzm(\n",
    "        uncoded_data, bit_period, sampling_period)\n",
    "    print(f'encoded data: {encoded_data}')\n",
    "\n",
    "    plt.figure(figsize=(15, 1.5))\n",
    "    plt.title('NRZM')\n",
    "    plt.plot(encoded_data)\n",
    "    plt.grid()"
   ]
  },
  {
   "cell_type": "markdown",
   "metadata": {},
   "source": [
    "## NRZS (Non-Return-to-Zero Space)"
   ]
  },
  {
   "cell_type": "code",
   "execution_count": 8,
   "metadata": {
    "ExecuteTime": {
     "end_time": "2020-03-09T01:11:41.416512Z",
     "start_time": "2020-03-09T01:11:41.248202Z"
    },
    "code_folding": []
   },
   "outputs": [
    {
     "name": "stdout",
     "output_type": "stream",
     "text": [
      "Encoding: NRZS\n",
      "encoded data: [0 0 0 0 0 0 0 0 0 1 1 1 1 1 1 1 1 1 1 1 1 1 1 1 1 1 1 1 1 1 1 1 1 1 1 1 0\n",
      " 0 0 0 0 0 0 0 0 1 1 1 1 1 1 1 1 1 1 1 1 1 1 1 1 1 1 0 0 0 0 0 0 0 0 0]\n"
     ]
    },
    {
     "data": {
      "image/png": "[encoded data removed]",
      "text/plain": [
       "<Figure size 1080x108 with 1 Axes>"
      ]
     },
     "metadata": {
      "needs_background": "light"
     },
     "output_type": "display_data"
    }
   ],
   "source": [
    "def encode_nrzs(data: np.array,\n",
    "                bit_period: float = 1,\n",
    "                sampling_period: float = 0.1,\n",
    "                high_level: float = 1\n",
    "                ) -> np.array:\n",
    "\n",
    "    if type(data) != type(np.array([], dtype=np.uint8)):\n",
    "        raise SystemExit('Error: Expecting dtype=np.array for parameter data.')\n",
    "\n",
    "    length = int(bit_period // sampling_period)\n",
    "    bitarray = np.unpackbits(data)\n",
    "    symbols = []\n",
    "\n",
    "    def _encode_nrzs_(bit):\n",
    "        if not hasattr(encode_nrzs, \"level\"):\n",
    "            encode_nrzs.level = 0\n",
    "\n",
    "        if bit == 0:\n",
    "            encode_nrzs.level ^= 1\n",
    "\n",
    "        symbol = [encode_nrzs.level * high_level] * length\n",
    "        return symbol\n",
    "\n",
    "    for bit in bitarray:\n",
    "        symbols += _encode_nrzs_(bit)\n",
    "\n",
    "    return np.array(symbols)\n",
    "\n",
    "\n",
    "if __name__ == '__main__' and callable(globals().get(\"get_ipython\", None)):\n",
    "    print('Encoding: NRZS')\n",
    "    encoded_data = encode_nrzs(\n",
    "        uncoded_data, bit_period, sampling_period)\n",
    "    print(f'encoded data: {encoded_data}')\n",
    "\n",
    "    plt.figure(figsize=(15, 1.5))\n",
    "    plt.title('NRZS')\n",
    "    plt.plot(encoded_data)\n",
    "    plt.grid()"
   ]
  },
  {
   "cell_type": "markdown",
   "metadata": {},
   "source": [
    "##  Manchester"
   ]
  },
  {
   "cell_type": "code",
   "execution_count": 9,
   "metadata": {
    "ExecuteTime": {
     "end_time": "2020-03-09T01:11:41.603030Z",
     "start_time": "2020-03-09T01:11:41.418443Z"
    },
    "code_folding": []
   },
   "outputs": [
    {
     "name": "stdout",
     "output_type": "stream",
     "text": [
      "Encoding: Manchester\n",
      "encoded data: [0 0 0 0 1 1 1 1 1 1 1 1 0 0 0 0 0 0 0 0 1 1 1 1 0 0 0 0 1 1 1 1 1 1 1 1 0\n",
      " 0 0 0 1 1 1 1 0 0 0 0 0 0 0 0 1 1 1 1 1 1 1 1 0 0 0 0]\n"
     ]
    },
    {
     "data": {
      "image/png": "[encoded data removed]",
      "text/plain": [
       "<Figure size 1080x108 with 1 Axes>"
      ]
     },
     "metadata": {
      "needs_background": "light"
     },
     "output_type": "display_data"
    }
   ],
   "source": [
    "def encode_manchester(data: np.array,\n",
    "                       bit_period: float = 1,\n",
    "                       sampling_period: float = 0.1,\n",
    "                       high_level: float = 1\n",
    "                       ) -> np.array:\n",
    "\n",
    "    if type(data) != type(np.array([], dtype=np.uint8)):\n",
    "        raise SystemExit('Error: Expecting dtype=np.array for parameter data.')\n",
    "\n",
    "    length = int(bit_period // sampling_period)\n",
    "    bitarray = np.unpackbits(data)\n",
    "    symbols = []\n",
    "\n",
    "    for bit in bitarray:\n",
    "        clock = [1] * (length//2) + [0] * (length//2)\n",
    "        symbol = list((np.array(clock) ^ bit) * high_level)\n",
    "        symbols += symbol\n",
    "\n",
    "    return np.array(symbols)\n",
    "\n",
    "\n",
    "if __name__ == '__main__' and callable(globals().get(\"get_ipython\", None)):\n",
    "    print('Encoding: Manchester')\n",
    "    encoded_data = encode_manchester(\n",
    "        uncoded_data, bit_period, sampling_period)\n",
    "    print(f'encoded data: {encoded_data}')\n",
    "\n",
    "    plt.figure(figsize=(15, 1.5))\n",
    "    plt.title('Manchester')\n",
    "    plt.plot(encoded_data)\n",
    "    plt.grid()"
   ]
  }
 ],
 "metadata": {
  "hide_input": false,
  "kernelspec": {
   "display_name": "Python 3",
   "language": "python",
   "name": "python3"
  },
  "language_info": {
   "codemirror_mode": {
    "name": "ipython",
    "version": 3
   },
   "file_extension": ".py",
   "mimetype": "text/x-python",
   "name": "python",
   "nbconvert_exporter": "python",
   "pygments_lexer": "ipython3",
   "version": "3.8.3"
  },
  "toc": {
   "base_numbering": 1,
   "nav_menu": {
    "height": "140px",
    "width": "565px"
   },
   "number_sections": true,
   "sideBar": true,
   "skip_h1_title": false,
   "title_cell": "Table of Contents",
   "title_sidebar": "Contents",
   "toc_cell": false,
   "toc_position": {},
   "toc_section_display": true,
   "toc_window_display": false
  },
  "varInspector": {
   "cols": {
    "lenName": 16,
    "lenType": 16,
    "lenVar": 40
   },
   "kernels_config": {
    "python": {
     "delete_cmd_postfix": "",
     "delete_cmd_prefix": "del ",
     "library": "var_list.py",
     "varRefreshCmd": "print(var_dic_list())"
    },
    "r": {
     "delete_cmd_postfix": ") ",
     "delete_cmd_prefix": "rm(",
     "library": "var_list.r",
     "varRefreshCmd": "cat(var_dic_list()) "
    }
   },
   "types_to_exclude": [
    "module",
    "function",
    "builtin_function_or_method",
    "instance",
    "_Feature"
   ],
   "window_display": false
  }
 },
 "nbformat": 4,
 "nbformat_minor": 2
}
